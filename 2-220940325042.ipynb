{
 "cells": [
  {
   "cell_type": "code",
   "execution_count": 1,
   "id": "75ce6738",
   "metadata": {},
   "outputs": [],
   "source": [
    "#Importing important libraries\n",
    "import pandas as pd\n",
    "import numpy as np\n",
    "import matplotlib.pyplot as plt"
   ]
  },
  {
   "cell_type": "code",
   "execution_count": 2,
   "id": "2e148daf",
   "metadata": {},
   "outputs": [],
   "source": [
    "#Reading the dataset\n",
    "df = pd.read_excel(\"data_final.xlsx\")"
   ]
  },
  {
   "cell_type": "code",
   "execution_count": 3,
   "id": "acdb43e2",
   "metadata": {},
   "outputs": [
    {
     "data": {
      "text/html": [
       "<div>\n",
       "<style scoped>\n",
       "    .dataframe tbody tr th:only-of-type {\n",
       "        vertical-align: middle;\n",
       "    }\n",
       "\n",
       "    .dataframe tbody tr th {\n",
       "        vertical-align: top;\n",
       "    }\n",
       "\n",
       "    .dataframe thead th {\n",
       "        text-align: right;\n",
       "    }\n",
       "</style>\n",
       "<table border=\"1\" class=\"dataframe\">\n",
       "  <thead>\n",
       "    <tr style=\"text-align: right;\">\n",
       "      <th></th>\n",
       "      <th>observation</th>\n",
       "      <th>feature</th>\n",
       "      <th>price</th>\n",
       "    </tr>\n",
       "  </thead>\n",
       "  <tbody>\n",
       "    <tr>\n",
       "      <th>0</th>\n",
       "      <td>0.44</td>\n",
       "      <td>0.68</td>\n",
       "      <td>511.14</td>\n",
       "    </tr>\n",
       "    <tr>\n",
       "      <th>1</th>\n",
       "      <td>0.99</td>\n",
       "      <td>0.23</td>\n",
       "      <td>717.10</td>\n",
       "    </tr>\n",
       "    <tr>\n",
       "      <th>2</th>\n",
       "      <td>0.84</td>\n",
       "      <td>0.29</td>\n",
       "      <td>607.91</td>\n",
       "    </tr>\n",
       "    <tr>\n",
       "      <th>3</th>\n",
       "      <td>0.28</td>\n",
       "      <td>0.45</td>\n",
       "      <td>270.40</td>\n",
       "    </tr>\n",
       "    <tr>\n",
       "      <th>4</th>\n",
       "      <td>0.07</td>\n",
       "      <td>0.83</td>\n",
       "      <td>289.88</td>\n",
       "    </tr>\n",
       "  </tbody>\n",
       "</table>\n",
       "</div>"
      ],
      "text/plain": [
       "   observation  feature   price\n",
       "0         0.44     0.68  511.14\n",
       "1         0.99     0.23  717.10\n",
       "2         0.84     0.29  607.91\n",
       "3         0.28     0.45  270.40\n",
       "4         0.07     0.83  289.88"
      ]
     },
     "execution_count": 3,
     "metadata": {},
     "output_type": "execute_result"
    }
   ],
   "source": [
    "#Checking first five values of the dataset\n",
    "df.head()"
   ]
  },
  {
   "cell_type": "code",
   "execution_count": 4,
   "id": "04fc1e74",
   "metadata": {},
   "outputs": [
    {
     "data": {
      "text/plain": [
       "observation    0\n",
       "feature        0\n",
       "price          0\n",
       "dtype: int64"
      ]
     },
     "execution_count": 4,
     "metadata": {},
     "output_type": "execute_result"
    }
   ],
   "source": [
    "#Checkmg for the null values\n",
    "df.isnull().sum()"
   ]
  },
  {
   "cell_type": "code",
   "execution_count": 54,
   "id": "4a294b8a",
   "metadata": {},
   "outputs": [],
   "source": [
    "#Observation:\n",
    "# TherE are 0 Null values in each Columns"
   ]
  },
  {
   "cell_type": "code",
   "execution_count": 5,
   "id": "68d9c663",
   "metadata": {},
   "outputs": [
    {
     "data": {
      "text/plain": [
       "0"
      ]
     },
     "execution_count": 5,
     "metadata": {},
     "output_type": "execute_result"
    }
   ],
   "source": [
    "df.duplicated().sum()\n",
    "#Observation: There are 0 duplication in the columns"
   ]
  },
  {
   "cell_type": "code",
   "execution_count": 6,
   "id": "acdf0c8c",
   "metadata": {},
   "outputs": [
    {
     "name": "stdout",
     "output_type": "stream",
     "text": [
      "<class 'pandas.core.frame.DataFrame'>\n",
      "RangeIndex: 100 entries, 0 to 99\n",
      "Data columns (total 3 columns):\n",
      " #   Column       Non-Null Count  Dtype  \n",
      "---  ------       --------------  -----  \n",
      " 0   observation  100 non-null    float64\n",
      " 1   feature      100 non-null    float64\n",
      " 2   price        100 non-null    float64\n",
      "dtypes: float64(3)\n",
      "memory usage: 2.5 KB\n"
     ]
    }
   ],
   "source": [
    "df.info()\n",
    "#Getting information about the data\n",
    "#The dataset has 100 rows with no null values and 3 rows"
   ]
  },
  {
   "cell_type": "code",
   "execution_count": 7,
   "id": "fceba1ea",
   "metadata": {},
   "outputs": [],
   "source": [
    "#Separating dependent and independent data in separate variables\n",
    "X = df.iloc[:, :-1].values\n",
    "y = df['price'].values"
   ]
  },
  {
   "cell_type": "code",
   "execution_count": 8,
   "id": "3bae61f2",
   "metadata": {},
   "outputs": [
    {
     "data": {
      "text/plain": [
       "array([[0.44, 0.68],\n",
       "       [0.99, 0.23],\n",
       "       [0.84, 0.29],\n",
       "       [0.28, 0.45],\n",
       "       [0.07, 0.83],\n",
       "       [0.66, 0.8 ],\n",
       "       [0.73, 0.92],\n",
       "       [0.57, 0.43],\n",
       "       [0.43, 0.89],\n",
       "       [0.27, 0.95],\n",
       "       [0.43, 0.06],\n",
       "       [0.87, 0.91],\n",
       "       [0.78, 0.69],\n",
       "       [0.9 , 0.94],\n",
       "       [0.41, 0.06],\n",
       "       [0.52, 0.17],\n",
       "       [0.47, 0.66],\n",
       "       [0.65, 0.43],\n",
       "       [0.85, 0.64],\n",
       "       [0.93, 0.44],\n",
       "       [0.41, 0.93],\n",
       "       [0.36, 0.43],\n",
       "       [0.78, 0.85],\n",
       "       [0.69, 0.07],\n",
       "       [0.04, 0.52],\n",
       "       [0.17, 0.15],\n",
       "       [0.68, 0.13],\n",
       "       [0.84, 0.6 ],\n",
       "       [0.38, 0.4 ],\n",
       "       [0.12, 0.65],\n",
       "       [0.62, 0.17],\n",
       "       [0.79, 0.97],\n",
       "       [0.82, 0.04],\n",
       "       [0.91, 0.53],\n",
       "       [0.35, 0.85],\n",
       "       [0.57, 0.69],\n",
       "       [0.52, 0.22],\n",
       "       [0.31, 0.15],\n",
       "       [0.6 , 0.02],\n",
       "       [0.99, 0.91],\n",
       "       [0.48, 0.76],\n",
       "       [0.3 , 0.19],\n",
       "       [0.58, 0.62],\n",
       "       [0.65, 0.17],\n",
       "       [0.6 , 0.69],\n",
       "       [0.95, 0.76],\n",
       "       [0.47, 0.23],\n",
       "       [0.15, 0.96],\n",
       "       [0.01, 0.03],\n",
       "       [0.26, 0.23],\n",
       "       [0.01, 0.11],\n",
       "       [0.45, 0.87],\n",
       "       [0.09, 0.97],\n",
       "       [0.96, 0.25],\n",
       "       [0.63, 0.58],\n",
       "       [0.06, 0.42],\n",
       "       [0.1 , 0.24],\n",
       "       [0.26, 0.62],\n",
       "       [0.41, 0.15],\n",
       "       [0.91, 0.95],\n",
       "       [0.83, 0.64],\n",
       "       [0.44, 0.64],\n",
       "       [0.2 , 0.4 ],\n",
       "       [0.43, 0.12],\n",
       "       [0.21, 0.22],\n",
       "       [0.88, 0.4 ],\n",
       "       [0.31, 0.87],\n",
       "       [0.99, 0.99],\n",
       "       [0.23, 0.26],\n",
       "       [0.79, 0.12],\n",
       "       [0.02, 0.28],\n",
       "       [0.89, 0.48],\n",
       "       [0.02, 0.56],\n",
       "       [0.92, 0.03],\n",
       "       [0.72, 0.34],\n",
       "       [0.3 , 0.99],\n",
       "       [0.86, 0.66],\n",
       "       [0.47, 0.65],\n",
       "       [0.79, 0.94],\n",
       "       [0.82, 0.96],\n",
       "       [0.9 , 0.42],\n",
       "       [0.19, 0.62],\n",
       "       [0.7 , 0.57],\n",
       "       [0.7 , 0.61],\n",
       "       [0.69, 0.  ],\n",
       "       [0.98, 0.3 ],\n",
       "       [0.3 , 0.08],\n",
       "       [0.85, 0.49],\n",
       "       [0.73, 0.01],\n",
       "       [1.  , 0.23],\n",
       "       [0.42, 0.94],\n",
       "       [0.49, 0.98],\n",
       "       [0.89, 0.68],\n",
       "       [0.22, 0.46],\n",
       "       [0.34, 0.5 ],\n",
       "       [0.99, 0.13],\n",
       "       [0.28, 0.46],\n",
       "       [0.87, 0.36],\n",
       "       [0.23, 0.87],\n",
       "       [0.77, 0.36]])"
      ]
     },
     "execution_count": 8,
     "metadata": {},
     "output_type": "execute_result"
    }
   ],
   "source": [
    "X"
   ]
  },
  {
   "cell_type": "code",
   "execution_count": 9,
   "id": "974c07cf",
   "metadata": {},
   "outputs": [
    {
     "data": {
      "text/plain": [
       "array([ 511.14,  717.1 ,  607.91,  270.4 ,  289.88,  830.85, 1038.09,\n",
       "        455.19,  640.17,  511.06,  177.03, 1242.52,  891.37, 1339.72,\n",
       "        169.88,  276.05,  517.43,  522.25,  932.21,  851.25,  640.11,\n",
       "        308.68, 1046.05,  332.4 ,  171.85,  109.55,  361.97,  872.21,\n",
       "        303.7 ,  256.38,  341.2 , 1194.63,  408.6 ,  895.54,  518.25,\n",
       "        638.75,  301.9 ,  163.38,  240.77, 1449.05,  609.  ,  174.59,\n",
       "        593.45,  355.96,  671.46, 1193.7 ,  278.88,  411.4 ,   42.08,\n",
       "        166.19,   58.62,  642.45,  368.14,  702.78,  615.74,  143.79,\n",
       "        109.  ,  328.28,  205.16, 1360.49,  905.83,  487.33,  202.76,\n",
       "        202.01,  148.87,  745.3 ,  503.04, 1563.82,  165.21,  438.4 ,\n",
       "         98.47,  819.63,  174.44,  483.13,  534.24,  572.31,  957.61,\n",
       "        518.29, 1143.49, 1211.31,  784.74,  283.7 ,  684.38,  719.46,\n",
       "        292.23,  775.68,  130.77,  801.6 ,  323.55,  726.9 ,  661.12,\n",
       "        771.11, 1016.14,  237.69,  325.89,  636.22,  272.12,  696.65,\n",
       "        434.53,  593.86])"
      ]
     },
     "execution_count": 9,
     "metadata": {},
     "output_type": "execute_result"
    }
   ],
   "source": [
    "y"
   ]
  },
  {
   "cell_type": "code",
   "execution_count": 11,
   "id": "9c56dfa6",
   "metadata": {},
   "outputs": [],
   "source": [
    "#Diving the data in Training and testing splits\n",
    "from sklearn.model_selection import train_test_split\n",
    "X_train, X_test, y_train, y_test = train_test_split(X, y, test_size=0.2, random_state=0)"
   ]
  },
  {
   "cell_type": "code",
   "execution_count": 13,
   "id": "5dc1087c",
   "metadata": {},
   "outputs": [
    {
     "data": {
      "text/plain": [
       "array([ 355.96,  202.76,  270.4 ,  819.63, 1193.7 ,   42.08, 1038.09,\n",
       "        593.86,  684.38,  957.61,  905.83,  784.74,  661.12,  165.21,\n",
       "        642.45,  872.21,  932.21,  109.  ,  202.01,  534.24,  717.1 ,\n",
       "        487.33,  593.45,  174.59,  289.88,  276.05,  522.25,  609.  ,\n",
       "        240.77,  830.85,  771.11, 1360.49,  511.14,  518.25,  303.7 ,\n",
       "         58.62, 1242.52,  638.75,  332.4 ,  368.14,  177.03, 1194.63,\n",
       "        503.04,  328.28, 1211.31,  775.68,  408.6 ,  292.23,  169.88,\n",
       "        726.9 ,  851.25,  256.38,  166.19,  696.65,  434.53,  438.4 ,\n",
       "        640.11,  325.89,  174.44,  518.29,  109.55,  163.38,  283.7 ,\n",
       "        278.88, 1449.05,  745.3 ,  205.16,  891.37,  323.55,   98.47,\n",
       "        801.6 ,  301.9 ,  308.68,  719.46,  511.06,  272.12, 1563.82,\n",
       "        148.87,  411.4 ,  671.46])"
      ]
     },
     "execution_count": 13,
     "metadata": {},
     "output_type": "execute_result"
    }
   ],
   "source": [
    "y_train"
   ]
  },
  {
   "cell_type": "markdown",
   "id": "037f348f",
   "metadata": {},
   "source": [
    "### Model Building"
   ]
  },
  {
   "cell_type": "code",
   "execution_count": 15,
   "id": "7ba0dc63",
   "metadata": {},
   "outputs": [],
   "source": [
    "#Creating the model\n",
    "from sklearn.linear_model import LinearRegression\n",
    "lr = LinearRegression()\n",
    "model1 = lr.fit(X_train, y_train)"
   ]
  },
  {
   "cell_type": "code",
   "execution_count": 47,
   "id": "48d0745e",
   "metadata": {},
   "outputs": [],
   "source": [
    "from sklearn.preprocessing import PolynomialFeatures\n",
    "poly = PolynomialFeatures(degree=3)  #Here the degree is passed as 3\n",
    "X_poly = poly.fit_transform(X_train)\n",
    "model2 = lr.fit(X_poly, y_train) "
   ]
  },
  {
   "cell_type": "code",
   "execution_count": 48,
   "id": "61243305",
   "metadata": {},
   "outputs": [],
   "source": [
    "y_pred = model2.predict(poly.fit_transform(X_test))"
   ]
  },
  {
   "cell_type": "code",
   "execution_count": 49,
   "id": "8f803110",
   "metadata": {},
   "outputs": [
    {
     "data": {
      "text/plain": [
       "0.9998421736843853"
      ]
     },
     "execution_count": 49,
     "metadata": {},
     "output_type": "execute_result"
    }
   ],
   "source": [
    "model2.score(X_poly, y_train)\n",
    "#The model has succesfully predicted the accuracy of 99% on training data "
   ]
  },
  {
   "cell_type": "code",
   "execution_count": 50,
   "id": "cfd108bd",
   "metadata": {},
   "outputs": [
    {
     "data": {
      "text/plain": [
       "0.999800019894562"
      ]
     },
     "execution_count": 50,
     "metadata": {},
     "output_type": "execute_result"
    }
   ],
   "source": [
    "model2.score(poly.fit_transform(X_test), y_test)\n",
    "#The model has the accuracy of 99 Percentage on testing data"
   ]
  },
  {
   "cell_type": "code",
   "execution_count": 51,
   "id": "192c8ce7",
   "metadata": {},
   "outputs": [],
   "source": [
    "df_compare = pd.DataFrame(y_test, columns=['Actual'])\n",
    "df_compare['Predicted'] = y_pred"
   ]
  },
  {
   "cell_type": "code",
   "execution_count": 52,
   "id": "700200ce",
   "metadata": {},
   "outputs": [
    {
     "data": {
      "text/html": [
       "<div>\n",
       "<style scoped>\n",
       "    .dataframe tbody tr th:only-of-type {\n",
       "        vertical-align: middle;\n",
       "    }\n",
       "\n",
       "    .dataframe tbody tr th {\n",
       "        vertical-align: top;\n",
       "    }\n",
       "\n",
       "    .dataframe thead th {\n",
       "        text-align: right;\n",
       "    }\n",
       "</style>\n",
       "<table border=\"1\" class=\"dataframe\">\n",
       "  <thead>\n",
       "    <tr style=\"text-align: right;\">\n",
       "      <th></th>\n",
       "      <th>Actual</th>\n",
       "      <th>Predicted</th>\n",
       "    </tr>\n",
       "  </thead>\n",
       "  <tbody>\n",
       "    <tr>\n",
       "      <th>0</th>\n",
       "      <td>361.97</td>\n",
       "      <td>359.503603</td>\n",
       "    </tr>\n",
       "    <tr>\n",
       "      <th>1</th>\n",
       "      <td>130.77</td>\n",
       "      <td>131.238344</td>\n",
       "    </tr>\n",
       "    <tr>\n",
       "      <th>2</th>\n",
       "      <td>607.91</td>\n",
       "      <td>609.169310</td>\n",
       "    </tr>\n",
       "    <tr>\n",
       "      <th>3</th>\n",
       "      <td>143.79</td>\n",
       "      <td>149.984128</td>\n",
       "    </tr>\n",
       "    <tr>\n",
       "      <th>4</th>\n",
       "      <td>572.31</td>\n",
       "      <td>566.721016</td>\n",
       "    </tr>\n",
       "    <tr>\n",
       "      <th>5</th>\n",
       "      <td>237.69</td>\n",
       "      <td>237.763033</td>\n",
       "    </tr>\n",
       "    <tr>\n",
       "      <th>6</th>\n",
       "      <td>517.43</td>\n",
       "      <td>520.609340</td>\n",
       "    </tr>\n",
       "    <tr>\n",
       "      <th>7</th>\n",
       "      <td>483.13</td>\n",
       "      <td>485.307705</td>\n",
       "    </tr>\n",
       "    <tr>\n",
       "      <th>8</th>\n",
       "      <td>615.74</td>\n",
       "      <td>619.830899</td>\n",
       "    </tr>\n",
       "    <tr>\n",
       "      <th>9</th>\n",
       "      <td>636.22</td>\n",
       "      <td>632.505777</td>\n",
       "    </tr>\n",
       "    <tr>\n",
       "      <th>10</th>\n",
       "      <td>702.78</td>\n",
       "      <td>703.213763</td>\n",
       "    </tr>\n",
       "    <tr>\n",
       "      <th>11</th>\n",
       "      <td>1016.14</td>\n",
       "      <td>1024.987286</td>\n",
       "    </tr>\n",
       "    <tr>\n",
       "      <th>12</th>\n",
       "      <td>1143.49</td>\n",
       "      <td>1151.245583</td>\n",
       "    </tr>\n",
       "    <tr>\n",
       "      <th>13</th>\n",
       "      <td>1339.72</td>\n",
       "      <td>1330.850546</td>\n",
       "    </tr>\n",
       "    <tr>\n",
       "      <th>14</th>\n",
       "      <td>455.19</td>\n",
       "      <td>460.705800</td>\n",
       "    </tr>\n",
       "    <tr>\n",
       "      <th>15</th>\n",
       "      <td>341.20</td>\n",
       "      <td>340.841365</td>\n",
       "    </tr>\n",
       "    <tr>\n",
       "      <th>16</th>\n",
       "      <td>1046.05</td>\n",
       "      <td>1041.642470</td>\n",
       "    </tr>\n",
       "    <tr>\n",
       "      <th>17</th>\n",
       "      <td>171.85</td>\n",
       "      <td>170.759984</td>\n",
       "    </tr>\n",
       "    <tr>\n",
       "      <th>18</th>\n",
       "      <td>895.54</td>\n",
       "      <td>901.578390</td>\n",
       "    </tr>\n",
       "    <tr>\n",
       "      <th>19</th>\n",
       "      <td>640.17</td>\n",
       "      <td>636.040947</td>\n",
       "    </tr>\n",
       "  </tbody>\n",
       "</table>\n",
       "</div>"
      ],
      "text/plain": [
       "     Actual    Predicted\n",
       "0    361.97   359.503603\n",
       "1    130.77   131.238344\n",
       "2    607.91   609.169310\n",
       "3    143.79   149.984128\n",
       "4    572.31   566.721016\n",
       "5    237.69   237.763033\n",
       "6    517.43   520.609340\n",
       "7    483.13   485.307705\n",
       "8    615.74   619.830899\n",
       "9    636.22   632.505777\n",
       "10   702.78   703.213763\n",
       "11  1016.14  1024.987286\n",
       "12  1143.49  1151.245583\n",
       "13  1339.72  1330.850546\n",
       "14   455.19   460.705800\n",
       "15   341.20   340.841365\n",
       "16  1046.05  1041.642470\n",
       "17   171.85   170.759984\n",
       "18   895.54   901.578390\n",
       "19   640.17   636.040947"
      ]
     },
     "execution_count": 52,
     "metadata": {},
     "output_type": "execute_result"
    }
   ],
   "source": [
    "#Comparing Actual and predicted data\n",
    "df_compare"
   ]
  },
  {
   "cell_type": "code",
   "execution_count": 53,
   "id": "60ca43b9",
   "metadata": {},
   "outputs": [
    {
     "data": {
      "text/plain": [
       "22.241818750636366"
      ]
     },
     "execution_count": 53,
     "metadata": {},
     "output_type": "execute_result"
    }
   ],
   "source": [
    "#Checking Errors\n",
    "from sklearn.metrics import mean_squared_error\n",
    "mse = mean_squared_error(y_pred, y_test)\n",
    "mse"
   ]
  },
  {
   "cell_type": "markdown",
   "id": "6e59113e",
   "metadata": {},
   "source": [
    "## Conclusion:\n",
    "1. Succesfully created a Polynomial Regrression model with degree =3.\n",
    "2. Accuracy is about 99% on both training and testing splits along with less mean squared error"
   ]
  },
  {
   "cell_type": "code",
   "execution_count": null,
   "id": "ede84fd3",
   "metadata": {},
   "outputs": [],
   "source": []
  }
 ],
 "metadata": {
  "kernelspec": {
   "display_name": "Python 3 (ipykernel)",
   "language": "python",
   "name": "python3"
  },
  "language_info": {
   "codemirror_mode": {
    "name": "ipython",
    "version": 3
   },
   "file_extension": ".py",
   "mimetype": "text/x-python",
   "name": "python",
   "nbconvert_exporter": "python",
   "pygments_lexer": "ipython3",
   "version": "3.9.13"
  }
 },
 "nbformat": 4,
 "nbformat_minor": 5
}
